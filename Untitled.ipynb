{
 "cells": [
  {
   "cell_type": "code",
   "execution_count": 1,
   "id": "77bad289",
   "metadata": {},
   "outputs": [
    {
     "name": "stdout",
     "output_type": "stream",
     "text": [
      "Chocolate Vanilla Rocky ROad\n"
     ]
    }
   ],
   "source": [
    "x, y, z = 'Chocolate', 'Vanilla', 'Rocky ROad'\n",
    "\n",
    "print(x, y, z)"
   ]
  },
  {
   "cell_type": "code",
   "execution_count": 3,
   "id": "42a1a73b",
   "metadata": {},
   "outputs": [
    {
     "name": "stdout",
     "output_type": "stream",
     "text": [
      "Chocolate\n"
     ]
    }
   ],
   "source": [
    "ice_cream = ['Chocolate', 'Vanilla', 'Rocky ROad']\n",
    "\n",
    "print(ice_cream[0])"
   ]
  },
  {
   "cell_type": "code",
   "execution_count": null,
   "id": "ae656e1f",
   "metadata": {},
   "outputs": [],
   "source": [
    "# camel case\n",
    "\n",
    "#test variable case\n",
    "\n",
    "testvariableCase = 'Vanilla Swirl'\n"
   ]
  },
  {
   "cell_type": "code",
   "execution_count": 4,
   "id": "cf23cfa3",
   "metadata": {},
   "outputs": [
    {
     "name": "stdout",
     "output_type": "stream",
     "text": [
      "Vanilla Swirl\n"
     ]
    }
   ],
   "source": [
    "#snake Case\n",
    "\n",
    "test_Variable_case = 'Vanilla Swirl'\n",
    "\n",
    "print(test_Variable_case)"
   ]
  },
  {
   "cell_type": "code",
   "execution_count": null,
   "id": "170313e0",
   "metadata": {},
   "outputs": [],
   "source": []
  }
 ],
 "metadata": {
  "kernelspec": {
   "display_name": "Python 3 (ipykernel)",
   "language": "python",
   "name": "python3"
  },
  "language_info": {
   "codemirror_mode": {
    "name": "ipython",
    "version": 3
   },
   "file_extension": ".py",
   "mimetype": "text/x-python",
   "name": "python",
   "nbconvert_exporter": "python",
   "pygments_lexer": "ipython3",
   "version": "3.9.13"
  }
 },
 "nbformat": 4,
 "nbformat_minor": 5
}
