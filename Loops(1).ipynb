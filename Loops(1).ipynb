{
 "cells": [
  {
   "cell_type": "code",
   "execution_count": 1,
   "id": "961eb22f",
   "metadata": {},
   "outputs": [
    {
     "name": "stdout",
     "output_type": "stream",
     "text": [
      "1\n",
      "2\n",
      "3\n",
      "4\n",
      "5\n"
     ]
    }
   ],
   "source": [
    "integers = [1,2,3,4,5]\n",
    "\n",
    "for number in integers:\n",
    "    print(number)"
   ]
  },
  {
   "cell_type": "code",
   "execution_count": 3,
   "id": "7811b5bc",
   "metadata": {},
   "outputs": [
    {
     "name": "stdout",
     "output_type": "stream",
     "text": [
      "2\n",
      "4\n",
      "6\n",
      "8\n",
      "10\n"
     ]
    }
   ],
   "source": [
    "integers = [1,2,3,4,5]\n",
    "\n",
    "for Jelly in integers:\n",
    "    print(Jelly + Jelly)\n",
    "    "
   ]
  },
  {
   "cell_type": "code",
   "execution_count": 4,
   "id": "22ba56fe",
   "metadata": {},
   "outputs": [],
   "source": [
    "ice_cream_dict = {'name':'fomo','weekly intake': 5,'fav ice creams':['Vanila','chocolate']}\n"
   ]
  },
  {
   "cell_type": "code",
   "execution_count": 5,
   "id": "f5d93f73",
   "metadata": {},
   "outputs": [
    {
     "name": "stdout",
     "output_type": "stream",
     "text": [
      "fomo\n",
      "5\n",
      "['Vanila', 'chocolate']\n"
     ]
    }
   ],
   "source": [
    "for cream in ice_cream_dict.values():\n",
    "    print(cream)"
   ]
  },
  {
   "cell_type": "code",
   "execution_count": 6,
   "id": "249280d7",
   "metadata": {},
   "outputs": [
    {
     "name": "stdout",
     "output_type": "stream",
     "text": [
      "name --> fomo\n",
      "weekly intake --> 5\n",
      "fav ice creams --> ['Vanila', 'chocolate']\n"
     ]
    }
   ],
   "source": [
    "for key, value in ice_cream_dict.items():\n",
    "    print(key, '-->', value)"
   ]
  },
  {
   "cell_type": "code",
   "execution_count": 7,
   "id": "66d76ae6",
   "metadata": {},
   "outputs": [
    {
     "name": "stdout",
     "output_type": "stream",
     "text": [
      "Vanilla topped With Hot FUdge\n",
      "Vanilla topped With Oreos\n",
      "Vanilla topped With Marshmallows\n",
      "Chocolate topped With Hot FUdge\n",
      "Chocolate topped With Oreos\n",
      "Chocolate topped With Marshmallows\n",
      "Cookie Dough topped With Hot FUdge\n",
      "Cookie Dough topped With Oreos\n",
      "Cookie Dough topped With Marshmallows\n"
     ]
    }
   ],
   "source": [
    "#nested for loops\n",
    "\n",
    "flavors = ['Vanilla', 'Chocolate','Cookie Dough']\n",
    "toppings = ['Hot FUdge', 'Oreos', 'Marshmallows']\n",
    "\n",
    "\n",
    "for one in flavors:\n",
    "    for two in toppings:\n",
    "        print(one, 'topped With', two)\n"
   ]
  },
  {
   "cell_type": "code",
   "execution_count": 8,
   "id": "9be3239b",
   "metadata": {},
   "outputs": [
    {
     "ename": "SyntaxError",
     "evalue": "invalid syntax (2937566212.py, line 7)",
     "output_type": "error",
     "traceback": [
      "\u001b[0;36m  Input \u001b[0;32mIn [8]\u001b[0;36m\u001b[0m\n\u001b[0;31m    number++\u001b[0m\n\u001b[0m            ^\u001b[0m\n\u001b[0;31mSyntaxError\u001b[0m\u001b[0;31m:\u001b[0m invalid syntax\n"
     ]
    }
   ],
   "source": [
    "#while loops\n",
    "\n",
    "number = 0\n",
    "\n",
    "while number<5:\n",
    "    print(number)\n",
    "    number++"
   ]
  },
  {
   "cell_type": "code",
   "execution_count": 9,
   "id": "4121a097",
   "metadata": {},
   "outputs": [
    {
     "name": "stdout",
     "output_type": "stream",
     "text": [
      "0\n",
      "1\n",
      "2\n",
      "3\n",
      "4\n"
     ]
    }
   ],
   "source": [
    "#while loops\n",
    "\n",
    "number = 0\n",
    "\n",
    "while number<5:\n",
    "    print(number)\n",
    "    number = number +1"
   ]
  },
  {
   "cell_type": "code",
   "execution_count": 10,
   "id": "5cc3933d",
   "metadata": {},
   "outputs": [
    {
     "name": "stdout",
     "output_type": "stream",
     "text": [
      "0\n",
      "1\n",
      "2\n",
      "3\n"
     ]
    }
   ],
   "source": [
    "number = 0\n",
    "\n",
    "while number<5:\n",
    "    print(number)\n",
    "    if number == 3:\n",
    "        break\n",
    "    number = number +1"
   ]
  },
  {
   "cell_type": "code",
   "execution_count": 11,
   "id": "88bb8fff",
   "metadata": {
    "scrolled": true
   },
   "outputs": [
    {
     "name": "stdout",
     "output_type": "stream",
     "text": [
      "0\n",
      "1\n",
      "2\n",
      "3\n",
      "4\n",
      "No Longer < 5\n"
     ]
    }
   ],
   "source": [
    "number = 0\n",
    "\n",
    "while number<5:\n",
    "    print(number)\n",
    "    if number == 6:\n",
    "        break\n",
    "    number = number +1\n",
    "else:\n",
    "    print('No Longer < 5')"
   ]
  },
  {
   "cell_type": "code",
   "execution_count": 12,
   "id": "ccc83e5d",
   "metadata": {},
   "outputs": [
    {
     "name": "stdout",
     "output_type": "stream",
     "text": [
      "0\n",
      "1\n",
      "2\n",
      "3\n"
     ]
    }
   ],
   "source": [
    "number = 0\n",
    "\n",
    "while number<5:\n",
    "    print(number)\n",
    "    if number == 3:\n",
    "        break\n",
    "    number = number +1\n",
    "else:\n",
    "    print('No Longer < 5')"
   ]
  },
  {
   "cell_type": "code",
   "execution_count": null,
   "id": "9515981e",
   "metadata": {},
   "outputs": [],
   "source": []
  }
 ],
 "metadata": {
  "kernelspec": {
   "display_name": "Python 3 (ipykernel)",
   "language": "python",
   "name": "python3"
  },
  "language_info": {
   "codemirror_mode": {
    "name": "ipython",
    "version": 3
   },
   "file_extension": ".py",
   "mimetype": "text/x-python",
   "name": "python",
   "nbconvert_exporter": "python",
   "pygments_lexer": "ipython3",
   "version": "3.9.13"
  }
 },
 "nbformat": 4,
 "nbformat_minor": 5
}
