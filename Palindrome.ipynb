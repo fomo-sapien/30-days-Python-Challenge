{
 "cells": [
  {
   "cell_type": "code",
   "execution_count": 11,
   "metadata": {},
   "outputs": [
    {
     "name": "stdout",
     "output_type": "stream",
     "text": [
      "Input Number:  Reverse:  98778\n",
      "Not a Palindrome\n"
     ]
    }
   ],
   "source": [
    "x = int(input(\"Enter any number to find its Reverse\"))\n",
    "y=x\n",
    "print(\"Input Number: \", end=\" \")\n",
    "rev = 0\n",
    "\n",
    "\n",
    "while x>0:\n",
    "    rev = (rev*10) + (x % 10)\n",
    "    x = x//10\n",
    "\n",
    "print(\"Reverse: \", end = \" \")\n",
    "print(rev)\n",
    "\n",
    "if y == rev:\n",
    "    print(\"The you entered is a Palindrome\")\n",
    "else:\n",
    "    print(\"Not a Palindrome\")"
   ]
  },
  {
   "cell_type": "code",
   "execution_count": null,
   "metadata": {},
   "outputs": [],
   "source": []
  },
  {
   "cell_type": "code",
   "execution_count": null,
   "metadata": {},
   "outputs": [],
   "source": []
  }
 ],
 "metadata": {
  "kernelspec": {
   "display_name": "myenv",
   "language": "python",
   "name": "python3"
  },
  "language_info": {
   "codemirror_mode": {
    "name": "ipython",
    "version": 3
   },
   "file_extension": ".py",
   "mimetype": "text/x-python",
   "name": "python",
   "nbconvert_exporter": "python",
   "pygments_lexer": "ipython3",
   "version": "3.11.0"
  },
  "orig_nbformat": 4
 },
 "nbformat": 4,
 "nbformat_minor": 2
}
