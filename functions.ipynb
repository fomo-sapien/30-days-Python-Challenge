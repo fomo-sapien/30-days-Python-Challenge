{
 "cells": [
  {
   "cell_type": "code",
   "execution_count": null,
   "id": "d1bbcf75",
   "metadata": {},
   "outputs": [],
   "source": [
    "#used for defining function\n",
    "\n",
    "def first_func():\n",
    "    print('we did it')\n",
    "    "
   ]
  },
  {
   "cell_type": "code",
   "execution_count": null,
   "id": "b2bd3bf5",
   "metadata": {},
   "outputs": [],
   "source": [
    "first_func()"
   ]
  },
  {
   "cell_type": "code",
   "execution_count": null,
   "id": "f1f0d4e8",
   "metadata": {},
   "outputs": [],
   "source": []
  },
  {
   "cell_type": "code",
   "execution_count": null,
   "id": "c37dd6a6",
   "metadata": {},
   "outputs": [],
   "source": [
    "def number_squared(number):\n",
    "    print(number**2)\n",
    "    \n",
    "number_squared(5)"
   ]
  },
  {
   "cell_type": "code",
   "execution_count": null,
   "id": "e28c3c51",
   "metadata": {},
   "outputs": [],
   "source": [
    "def number_squared_cust(number,power):\n",
    "    print(number**power)\n",
    "    \n",
    "number_squared_cust(2,10)"
   ]
  },
  {
   "cell_type": "code",
   "execution_count": null,
   "id": "45c19805",
   "metadata": {},
   "outputs": [],
   "source": [
    "\n",
    "\n",
    "def number_args(*number):\n",
    "    print(number[0]*number[1])\n",
    "    \n",
    "number_args(5,6,1,2,8)"
   ]
  },
  {
   "cell_type": "code",
   "execution_count": null,
   "id": "af198b6f",
   "metadata": {},
   "outputs": [],
   "source": [
    "args_tuple = (5,6,1,2,8)\n",
    "\n",
    "def number_args(*number):\n",
    "    print(number[0]*number[1])\n",
    "    \n",
    "number_args(*args_tuple)"
   ]
  },
  {
   "cell_type": "code",
   "execution_count": null,
   "id": "742041ed",
   "metadata": {},
   "outputs": [],
   "source": [
    "def number_squared_cust(number,power):\n",
    "    print(number**power)\n",
    "    \n",
    "number_squared_cust(power=2,number=10)"
   ]
  },
  {
   "cell_type": "code",
   "execution_count": null,
   "id": "ff308c5d",
   "metadata": {},
   "outputs": [],
   "source": [
    "def number_kward(**number):\n",
    "    print('My number is: ' + number['integer'] + 'My Other NUmber is: ' + number['integer2'])"
   ]
  },
  {
   "cell_type": "code",
   "execution_count": null,
   "id": "17e65458",
   "metadata": {},
   "outputs": [],
   "source": [
    "number_kward(integer = '2309', integer2 = '9302')"
   ]
  },
  {
   "cell_type": "code",
   "execution_count": null,
   "id": "3536556d",
   "metadata": {},
   "outputs": [],
   "source": []
  }
 ],
 "metadata": {
  "kernelspec": {
   "display_name": "Python 3 (ipykernel)",
   "language": "python",
   "name": "python3"
  },
  "language_info": {
   "codemirror_mode": {
    "name": "ipython",
    "version": 3
   },
   "file_extension": ".py",
   "mimetype": "text/x-python",
   "name": "python",
   "nbconvert_exporter": "python",
   "pygments_lexer": "ipython3",
   "version": "3.9.13"
  }
 },
 "nbformat": 4,
 "nbformat_minor": 5
}
