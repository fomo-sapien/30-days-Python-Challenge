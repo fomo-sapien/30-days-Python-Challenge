{
 "cells": [
  {
   "cell_type": "code",
   "execution_count": null,
   "id": "65e980b3",
   "metadata": {},
   "outputs": [],
   "source": [
    "weight = float(input(\"Enter Your Weight in Pounds: \"))\n",
    "height = float(input(\"Enter Your Height in inches: \"))\n",
    "\n",
    "BMI = (weight* 703)/(height*height)\n",
    "\n",
    "print(BMI)\n",
    "\n",
    "if BMI>0:\n",
    "        if BMI<18.5:\n",
    "            print(\"Underweight\")\n",
    "        elif (BMI<=24.9):\n",
    "            print(\"Normal\")\n",
    "        elif (BMI<=29.9):\n",
    "            print(\"Overweight\")\n",
    "        elif (BMI<=34.9):\n",
    "            print(\"Obese\")\n",
    "        elif (BMI<= 39.9):\n",
    "            print(\"Severely Obese\")\n",
    "        else:\n",
    "            print(\"Stop Eating and Start Running Fatass\")\n",
    "else:\n",
    "        print(\"Enter Valid Inputs\")"
   ]
  },
  {
   "cell_type": "code",
   "execution_count": null,
   "id": "c1eaee62",
   "metadata": {},
   "outputs": [],
   "source": []
  },
  {
   "cell_type": "code",
   "execution_count": null,
   "id": "389ecb2b",
   "metadata": {},
   "outputs": [],
   "source": []
  }
 ],
 "metadata": {
  "kernelspec": {
   "display_name": "Python 3 (ipykernel)",
   "language": "python",
   "name": "python3"
  },
  "language_info": {
   "codemirror_mode": {
    "name": "ipython",
    "version": 3
   },
   "file_extension": ".py",
   "mimetype": "text/x-python",
   "name": "python",
   "nbconvert_exporter": "python",
   "pygments_lexer": "ipython3",
   "version": "3.9.13"
  }
 },
 "nbformat": 4,
 "nbformat_minor": 5
}
